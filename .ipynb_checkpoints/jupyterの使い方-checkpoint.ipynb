{
 "cells": [
  {
   "cell_type": "code",
   "execution_count": 23,
   "id": "bbf3b21e-58e2-4175-b91f-7481320e5f8f",
   "metadata": {},
   "outputs": [
    {
     "data": {
      "text/plain": [
       "6"
      ]
     },
     "execution_count": 23,
     "metadata": {},
     "output_type": "execute_result"
    }
   ],
   "source": [
    "1+2+3\n",
    "#aiueo"
   ]
  },
  {
   "cell_type": "code",
   "execution_count": 24,
   "id": "4c5dd162-e017-45de-96c8-c1c875a3edd0",
   "metadata": {},
   "outputs": [
    {
     "data": {
      "text/plain": [
       "6"
      ]
     },
     "execution_count": 24,
     "metadata": {},
     "output_type": "execute_result"
    }
   ],
   "source": [
    "3+3"
   ]
  },
  {
   "cell_type": "markdown",
   "id": "bd7e76a5-bdc3-4e5b-8e5e-f37e35dda8f9",
   "metadata": {},
   "source": [
    "テスト"
   ]
  },
  {
   "cell_type": "markdown",
   "id": "b0e7c5ca-e7b2-4f06-9aa1-f1a6c6108395",
   "metadata": {},
   "source": [
    "# test"
   ]
  },
  {
   "cell_type": "markdown",
   "id": "90fead41-b0aa-4376-b0ce-6d374ed4bdc2",
   "metadata": {},
   "source": [
    "これは  \n",
    "**テスト**  \n",
    "_です_\n",
    "- あいうえお\n",
    "- かきくけこ\n",
    "- さしすせそ\n",
    "- たちつてと\n",
    "- なにぬねの"
   ]
  },
  {
   "cell_type": "code",
   "execution_count": null,
   "id": "25b421a7-2da2-4146-9d72-3eaac21e5b32",
   "metadata": {},
   "outputs": [],
   "source": []
  }
 ],
 "metadata": {
  "kernelspec": {
   "display_name": "Python 3 (ipykernel)",
   "language": "python",
   "name": "python3"
  },
  "language_info": {
   "codemirror_mode": {
    "name": "ipython",
    "version": 3
   },
   "file_extension": ".py",
   "mimetype": "text/x-python",
   "name": "python",
   "nbconvert_exporter": "python",
   "pygments_lexer": "ipython3",
   "version": "3.12.3"
  }
 },
 "nbformat": 4,
 "nbformat_minor": 5
}
