{
 "cells": [
  {
   "cell_type": "code",
   "execution_count": 1,
   "id": "a8bb0b36-c2d2-4c0d-8a89-053cac3cf73f",
   "metadata": {},
   "outputs": [],
   "source": [
    "List = [1, \"a\", 2 ,\"b\", 3]"
   ]
  },
  {
   "cell_type": "code",
   "execution_count": 2,
   "id": "39e62dd0-55e0-42c3-b260-48147bbcc755",
   "metadata": {},
   "outputs": [
    {
     "data": {
      "text/plain": [
       "[1, 'a', 2, 'b', 3]"
      ]
     },
     "execution_count": 2,
     "metadata": {},
     "output_type": "execute_result"
    }
   ],
   "source": [
    "List"
   ]
  },
  {
   "cell_type": "code",
   "execution_count": 3,
   "id": "6a289078-85aa-4255-b5fc-56093bb20e8d",
   "metadata": {},
   "outputs": [
    {
     "data": {
      "text/plain": [
       "3"
      ]
     },
     "execution_count": 3,
     "metadata": {},
     "output_type": "execute_result"
    }
   ],
   "source": [
    "List[4]"
   ]
  },
  {
   "cell_type": "code",
   "execution_count": 5,
   "id": "1d3006dd-0bbc-42f7-accf-100cbcc0afd2",
   "metadata": {},
   "outputs": [
    {
     "data": {
      "text/plain": [
       "'a'"
      ]
     },
     "execution_count": 5,
     "metadata": {},
     "output_type": "execute_result"
    }
   ],
   "source": [
    "List[1]"
   ]
  },
  {
   "cell_type": "code",
   "execution_count": 7,
   "id": "6f1e09d4-8da0-4633-92bc-e5ea7a043c40",
   "metadata": {},
   "outputs": [
    {
     "data": {
      "text/plain": [
       "3"
      ]
     },
     "execution_count": 7,
     "metadata": {},
     "output_type": "execute_result"
    }
   ],
   "source": [
    "List[-1]#-1を入れると一番後ろの値を取得できる"
   ]
  },
  {
   "cell_type": "code",
   "execution_count": 8,
   "id": "b61dbe3b-50d4-42d8-af88-0ed00e76248c",
   "metadata": {},
   "outputs": [
    {
     "ename": "TypeError",
     "evalue": "object of type 'type' has no len()",
     "output_type": "error",
     "traceback": [
      "\u001b[1;31m---------------------------------------------------------------------------\u001b[0m",
      "\u001b[1;31mTypeError\u001b[0m                                 Traceback (most recent call last)",
      "Cell \u001b[1;32mIn[8], line 1\u001b[0m\n\u001b[1;32m----> 1\u001b[0m \u001b[38;5;28;43mlen\u001b[39;49m\u001b[43m(\u001b[49m\u001b[38;5;28;43mlist\u001b[39;49m\u001b[43m)\u001b[49m\n",
      "\u001b[1;31mTypeError\u001b[0m: object of type 'type' has no len()"
     ]
    }
   ],
   "source": [
    "len(list)"
   ]
  },
  {
   "cell_type": "code",
   "execution_count": 9,
   "id": "c9d2956f-e0eb-403d-b69d-6ef22b001836",
   "metadata": {},
   "outputs": [
    {
     "data": {
      "text/plain": [
       "5"
      ]
     },
     "execution_count": 9,
     "metadata": {},
     "output_type": "execute_result"
    }
   ],
   "source": [
    "len(List)"
   ]
  },
  {
   "cell_type": "code",
   "execution_count": 10,
   "id": "060f426b-81b3-4490-a55f-d665fa4592b3",
   "metadata": {},
   "outputs": [],
   "source": [
    "List.append(\"c\")"
   ]
  },
  {
   "cell_type": "code",
   "execution_count": 11,
   "id": "3f5f3190-7992-449c-8c89-0d7df75afeea",
   "metadata": {},
   "outputs": [
    {
     "data": {
      "text/plain": [
       "6"
      ]
     },
     "execution_count": 11,
     "metadata": {},
     "output_type": "execute_result"
    }
   ],
   "source": [
    "len(List)"
   ]
  },
  {
   "cell_type": "code",
   "execution_count": 12,
   "id": "7eadf3b9-b934-4b58-ba2a-536663125180",
   "metadata": {},
   "outputs": [
    {
     "data": {
      "text/plain": [
       "'c'"
      ]
     },
     "execution_count": 12,
     "metadata": {},
     "output_type": "execute_result"
    }
   ],
   "source": [
    "List[5]"
   ]
  },
  {
   "cell_type": "code",
   "execution_count": 13,
   "id": "14e83d8e-8138-4e67-b860-39f0907a72f0",
   "metadata": {},
   "outputs": [],
   "source": [
    "List2=[]"
   ]
  },
  {
   "cell_type": "code",
   "execution_count": 14,
   "id": "833d857e-d336-48af-a52f-6b31bdbb3180",
   "metadata": {},
   "outputs": [
    {
     "data": {
      "text/plain": [
       "[]"
      ]
     },
     "execution_count": 14,
     "metadata": {},
     "output_type": "execute_result"
    }
   ],
   "source": [
    "List2"
   ]
  },
  {
   "cell_type": "code",
   "execution_count": 15,
   "id": "ea0990a7-f482-4737-a794-331b0b2acd94",
   "metadata": {},
   "outputs": [],
   "source": [
    "List2.append(4)"
   ]
  },
  {
   "cell_type": "code",
   "execution_count": 16,
   "id": "94480ace-ee82-481d-b580-5ebf09e88ef7",
   "metadata": {},
   "outputs": [
    {
     "data": {
      "text/plain": [
       "[4]"
      ]
     },
     "execution_count": 16,
     "metadata": {},
     "output_type": "execute_result"
    }
   ],
   "source": [
    "List2"
   ]
  },
  {
   "cell_type": "code",
   "execution_count": 17,
   "id": "997675d8-21e9-4b87-bbf0-32e6cf0317b6",
   "metadata": {},
   "outputs": [
    {
     "data": {
      "text/plain": [
       "[1, 'a', 2, 'b', 3, 'c']"
      ]
     },
     "execution_count": 17,
     "metadata": {},
     "output_type": "execute_result"
    }
   ],
   "source": [
    "List"
   ]
  },
  {
   "cell_type": "code",
   "execution_count": null,
   "id": "c19ce8aa-386d-4855-8231-fa02162c6a5e",
   "metadata": {},
   "outputs": [],
   "source": []
  }
 ],
 "metadata": {
  "kernelspec": {
   "display_name": "Python 3 (ipykernel)",
   "language": "python",
   "name": "python3"
  },
  "language_info": {
   "codemirror_mode": {
    "name": "ipython",
    "version": 3
   },
   "file_extension": ".py",
   "mimetype": "text/x-python",
   "name": "python",
   "nbconvert_exporter": "python",
   "pygments_lexer": "ipython3",
   "version": "3.12.3"
  }
 },
 "nbformat": 4,
 "nbformat_minor": 5
}
