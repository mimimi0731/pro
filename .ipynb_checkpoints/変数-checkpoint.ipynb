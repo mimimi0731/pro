{
 "cells": [
  {
   "cell_type": "code",
   "execution_count": 1,
   "id": "de0564f6-84e1-4f23-9ec4-ed230d808811",
   "metadata": {},
   "outputs": [],
   "source": [
    "a = 1"
   ]
  },
  {
   "cell_type": "code",
   "execution_count": 2,
   "id": "0d689bc9-36ad-4348-8587-b6e4d1a5ba41",
   "metadata": {},
   "outputs": [],
   "source": [
    "b = 2"
   ]
  },
  {
   "cell_type": "code",
   "execution_count": 3,
   "id": "6689c450-7b2b-405c-8ef8-d89afa67961f",
   "metadata": {},
   "outputs": [
    {
     "data": {
      "text/plain": [
       "3"
      ]
     },
     "execution_count": 3,
     "metadata": {},
     "output_type": "execute_result"
    }
   ],
   "source": [
    "a + b"
   ]
  },
  {
   "cell_type": "code",
   "execution_count": 4,
   "id": "10c34a2c-0ec4-404d-9987-55cda61e6d2a",
   "metadata": {},
   "outputs": [
    {
     "data": {
      "text/plain": [
       "1"
      ]
     },
     "execution_count": 4,
     "metadata": {},
     "output_type": "execute_result"
    }
   ],
   "source": [
    "a"
   ]
  },
  {
   "cell_type": "code",
   "execution_count": 5,
   "id": "6085e7eb-e8aa-493d-8818-26054c0f76ba",
   "metadata": {},
   "outputs": [
    {
     "data": {
      "text/plain": [
       "2"
      ]
     },
     "execution_count": 5,
     "metadata": {},
     "output_type": "execute_result"
    }
   ],
   "source": [
    "b"
   ]
  },
  {
   "cell_type": "code",
   "execution_count": 8,
   "id": "03b55907-f5d6-4edf-828d-f03607626ff5",
   "metadata": {},
   "outputs": [
    {
     "data": {
      "text/plain": [
       "7"
      ]
     },
     "execution_count": 8,
     "metadata": {},
     "output_type": "execute_result"
    }
   ],
   "source": [
    "a = 5\n",
    "a + b"
   ]
  },
  {
   "cell_type": "code",
   "execution_count": 11,
   "id": "6b88b0d8-3725-49e2-9f97-0089f96cff26",
   "metadata": {},
   "outputs": [],
   "source": [
    "name = \"テスト\""
   ]
  },
  {
   "cell_type": "code",
   "execution_count": 12,
   "id": "ee6e582c-e637-493f-88c4-fe647d88a16d",
   "metadata": {},
   "outputs": [
    {
     "name": "stdout",
     "output_type": "stream",
     "text": [
      "こんにちは、テストです。\n"
     ]
    }
   ],
   "source": [
    "print(\"こんにちは、\"+name+\"です。\")"
   ]
  },
  {
   "cell_type": "code",
   "execution_count": 13,
   "id": "790a7865-d177-42c2-ac1a-cd0abaf286b0",
   "metadata": {},
   "outputs": [
    {
     "name": "stdout",
     "output_type": "stream",
     "text": [
      "こんにちは、テストです。\n"
     ]
    }
   ],
   "source": [
    "print(\"こんにちは、{}です。\".format(name))"
   ]
  },
  {
   "cell_type": "code",
   "execution_count": 14,
   "id": "44bedb1e-e68e-4364-8b93-880a4fc7790e",
   "metadata": {},
   "outputs": [
    {
     "name": "stdout",
     "output_type": "stream",
     "text": [
      "こんにちは、テストです。年齢は20歳です。\n"
     ]
    }
   ],
   "source": [
    "print(\"こんにちは、{}です。年齢は{}歳です。\".format(name,20)) ##format関数はよく使うので覚えておくとよい"
   ]
  },
  {
   "cell_type": "code",
   "execution_count": null,
   "id": "d566df6a-5f7a-4284-9c88-1afdb9ff77e7",
   "metadata": {},
   "outputs": [],
   "source": []
  }
 ],
 "metadata": {
  "kernelspec": {
   "display_name": "Python 3 (ipykernel)",
   "language": "python",
   "name": "python3"
  },
  "language_info": {
   "codemirror_mode": {
    "name": "ipython",
    "version": 3
   },
   "file_extension": ".py",
   "mimetype": "text/x-python",
   "name": "python",
   "nbconvert_exporter": "python",
   "pygments_lexer": "ipython3",
   "version": "3.12.3"
  }
 },
 "nbformat": 4,
 "nbformat_minor": 5
}
