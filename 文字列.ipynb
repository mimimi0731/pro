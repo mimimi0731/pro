{
 "cells": [
  {
   "cell_type": "code",
   "execution_count": 1,
   "id": "976d669e-4cf5-4e24-8ed9-bc75c9bf7ff5",
   "metadata": {},
   "outputs": [
    {
     "name": "stdout",
     "output_type": "stream",
     "text": [
      "Hello, Python\n"
     ]
    }
   ],
   "source": [
    "print(\"Hello, Python\")"
   ]
  },
  {
   "cell_type": "code",
   "execution_count": 2,
   "id": "502d64c8-8636-44e3-b198-2a4764064a38",
   "metadata": {},
   "outputs": [
    {
     "name": "stdout",
     "output_type": "stream",
     "text": [
      "こんにちは、○○です\n"
     ]
    }
   ],
   "source": [
    "print(\"こんにちは、\"+\"○○です\")"
   ]
  },
  {
   "cell_type": "code",
   "execution_count": 3,
   "id": "0fc7e776-f280-42af-a8f4-9e648fca6657",
   "metadata": {},
   "outputs": [
    {
     "name": "stdout",
     "output_type": "stream",
     "text": [
      "こんにちは、こんにちは、\n"
     ]
    }
   ],
   "source": [
    "print(\"こんにちは、\"*2)"
   ]
  },
  {
   "cell_type": "code",
   "execution_count": 4,
   "id": "a78d6c61-4d19-4347-bcbd-b464cd7b1a48",
   "metadata": {},
   "outputs": [
    {
     "name": "stdout",
     "output_type": "stream",
     "text": [
      "3\n"
     ]
    }
   ],
   "source": [
    "print(\"3\")"
   ]
  },
  {
   "cell_type": "code",
   "execution_count": 5,
   "id": "dadaf0be-bf00-4027-8b32-4c6d3f77da5f",
   "metadata": {},
   "outputs": [
    {
     "name": "stdout",
     "output_type": "stream",
     "text": [
      "3\n"
     ]
    }
   ],
   "source": [
    "print(3)"
   ]
  },
  {
   "cell_type": "code",
   "execution_count": 6,
   "id": "b4742929-ba85-496b-9e62-ffe959b2169c",
   "metadata": {},
   "outputs": [
    {
     "ename": "TypeError",
     "evalue": "can only concatenate str (not \"int\") to str",
     "output_type": "error",
     "traceback": [
      "\u001b[1;31m---------------------------------------------------------------------------\u001b[0m",
      "\u001b[1;31mTypeError\u001b[0m                                 Traceback (most recent call last)",
      "Cell \u001b[1;32mIn[6], line 1\u001b[0m\n\u001b[1;32m----> 1\u001b[0m \u001b[38;5;28mprint\u001b[39m(\u001b[38;5;124;43m\"\u001b[39;49m\u001b[38;5;124;43m3\u001b[39;49m\u001b[38;5;124;43m\"\u001b[39;49m\u001b[38;5;241;43m+\u001b[39;49m\u001b[38;5;241;43m3\u001b[39;49m)\n",
      "\u001b[1;31mTypeError\u001b[0m: can only concatenate str (not \"int\") to str"
     ]
    }
   ],
   "source": [
    "print(\"3\"+3)"
   ]
  },
  {
   "cell_type": "code",
   "execution_count": 7,
   "id": "95945fbb-a647-46f1-9974-44fcc1ead3c4",
   "metadata": {},
   "outputs": [
    {
     "data": {
      "text/plain": [
       "str"
      ]
     },
     "execution_count": 7,
     "metadata": {},
     "output_type": "execute_result"
    }
   ],
   "source": [
    "type(\"3\")#string型"
   ]
  },
  {
   "cell_type": "code",
   "execution_count": 9,
   "id": "213621bc-c4e0-40a8-84b2-a04b531f4f77",
   "metadata": {},
   "outputs": [
    {
     "data": {
      "text/plain": [
       "int"
      ]
     },
     "execution_count": 9,
     "metadata": {},
     "output_type": "execute_result"
    }
   ],
   "source": [
    "type(3)#integer型"
   ]
  },
  {
   "cell_type": "code",
   "execution_count": 10,
   "id": "1468ce49-d1b7-4563-aa30-874d2b363a67",
   "metadata": {},
   "outputs": [
    {
     "name": "stdout",
     "output_type": "stream",
     "text": [
      "6\n"
     ]
    }
   ],
   "source": [
    "print(int(\"3\")+3)"
   ]
  },
  {
   "cell_type": "code",
   "execution_count": 11,
   "id": "69245ddf-c074-4eca-b2ad-05849716e1b8",
   "metadata": {},
   "outputs": [
    {
     "name": "stdout",
     "output_type": "stream",
     "text": [
      "33\n"
     ]
    }
   ],
   "source": [
    "print(\"3\"+str(3))"
   ]
  },
  {
   "cell_type": "code",
   "execution_count": null,
   "id": "23d13b4f-7a96-4608-8912-8b38c864fdf1",
   "metadata": {},
   "outputs": [],
   "source": []
  }
 ],
 "metadata": {
  "kernelspec": {
   "display_name": "Python 3 (ipykernel)",
   "language": "python",
   "name": "python3"
  },
  "language_info": {
   "codemirror_mode": {
    "name": "ipython",
    "version": 3
   },
   "file_extension": ".py",
   "mimetype": "text/x-python",
   "name": "python",
   "nbconvert_exporter": "python",
   "pygments_lexer": "ipython3",
   "version": "3.12.3"
  }
 },
 "nbformat": 4,
 "nbformat_minor": 5
}
