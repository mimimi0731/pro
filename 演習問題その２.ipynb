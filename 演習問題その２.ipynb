{
 "cells": [
  {
   "cell_type": "markdown",
   "id": "b6f74565",
   "metadata": {},
   "source": [
    "#### 問１．input関数を使って正の整数を入力し、1からその入力した整数までを全て合計した数をprintするプログラムを作ってください。"
   ]
  },
  {
   "cell_type": "code",
   "execution_count": 20,
   "id": "365fd32e",
   "metadata": {},
   "outputs": [
    {
     "name": "stdout",
     "output_type": "stream",
     "text": [
      "正の整数を入力してください:\n"
     ]
    },
    {
     "name": "stdin",
     "output_type": "stream",
     "text": [
      " 12345\n"
     ]
    },
    {
     "name": "stdout",
     "output_type": "stream",
     "text": [
      "1から12345までの自然数の和は76205685です。\n"
     ]
    }
   ],
   "source": [
    "#回答欄\n",
    "List = []\n",
    "b = 0\n",
    "print(\"正の整数を入力してください:\")\n",
    "a = input()\n",
    "for i in range(int(a)):\n",
    "    tmp = i + 1\n",
    "    b = b + tmp\n",
    "print(\"1から{}までの自然数の和は{}です。\".format(a,b))\n"
   ]
  },
  {
   "cell_type": "markdown",
   "id": "ce49ec5e",
   "metadata": {},
   "source": [
    "#### 問２．input関数を使って身長(cm)と体重(kg)を入力し、BMI（=体重(kg)÷身長(m)÷身長(m)）と肥満度（BMI18.5未満：痩せ型、BMI18.5以上25未満：標準、BMI25以上：肥満）をprintするプログラムを作ってください。"
   ]
  },
  {
   "cell_type": "code",
   "execution_count": 38,
   "id": "c1ff6d34",
   "metadata": {},
   "outputs": [
    {
     "name": "stdout",
     "output_type": "stream",
     "text": [
      "身長を入力してください。\n"
     ]
    },
    {
     "name": "stdin",
     "output_type": "stream",
     "text": [
      " 170\n"
     ]
    },
    {
     "name": "stdout",
     "output_type": "stream",
     "text": [
      "体重を入力してください。\n"
     ]
    },
    {
     "name": "stdin",
     "output_type": "stream",
     "text": [
      " 60\n"
     ]
    },
    {
     "name": "stdout",
     "output_type": "stream",
     "text": [
      "BMIの値は20.8です。\n",
      "標準です。\n"
     ]
    }
   ],
   "source": [
    "#回答欄\n",
    "print(\"身長を入力してください。\")\n",
    "cm = input()\n",
    "print(\"体重を入力してください。\")\n",
    "kg = input()\n",
    "\n",
    "m = int(cm) / 100\n",
    "\n",
    "tmp = int(kg) / float(m) / float(m)\n",
    "\n",
    "bmi = round(tmp, 1)\n",
    "\n",
    "print(\"BMIの値は{}です。\".format(bmi))\n",
    "\n",
    "if bmi < 18.5:\n",
    "    print(\"瘦せ型です。\")\n",
    "elif bmi >= 25:\n",
    "    print(\"肥満です。\")\n",
    "else:\n",
    "    print(\"標準です。\")"
   ]
  },
  {
   "cell_type": "markdown",
   "id": "6f462014",
   "metadata": {},
   "source": [
    "#### 問３．input関数を使って「グー」「チョキ」「パー」のいずれかを入力し、相手にはランダムな手を出させて、相手の出した手と勝敗をそれぞれprintするじゃんけんプログラムを作ってください。"
   ]
  },
  {
   "cell_type": "code",
   "execution_count": null,
   "id": "a15fe6d4-b98c-47f0-81c8-6bbdf17a73d0",
   "metadata": {},
   "outputs": [],
   "source": []
  },
  {
   "cell_type": "code",
   "execution_count": 111,
   "id": "79c9a392",
   "metadata": {},
   "outputs": [
    {
     "name": "stdout",
     "output_type": "stream",
     "text": [
      "グー、チョキ、パー、のいずれかを入力してください。\n"
     ]
    },
    {
     "name": "stdin",
     "output_type": "stream",
     "text": [
      " パー\n"
     ]
    },
    {
     "name": "stdout",
     "output_type": "stream",
     "text": [
      "相手が出した手：チョキ\n",
      "負けです。\n"
     ]
    }
   ],
   "source": [
    "#回答欄\n",
    "import random\n",
    "\n",
    "print(\"グー、チョキ、パー、のいずれかを入力してください。\")\n",
    "me = input()\n",
    "\n",
    "you = random.randint(0,2)\n",
    "\n",
    "if you == 0:\n",
    "    print(\"相手が出した手：グー\")\n",
    "    if me == \"チョキ\":\n",
    "        print(\"負けです。\")\n",
    "    elif me == \"グー\":\n",
    "        print(\"あいこです。\")\n",
    "    elif me == \"パー\":\n",
    "        print(\"負けです。\")\n",
    "    else:\n",
    "        print(\"グー、チョキ、パーを入力してください！\")\n",
    "elif you == 1:\n",
    "    print(\"相手が出した手：チョキ\")\n",
    "    if me == \"チョキ\":\n",
    "        print(\"あいこです。\")\n",
    "    elif me == \"パー\":\n",
    "        print(\"負けです。\")\n",
    "    elif me == \"グー\":\n",
    "        print(\"勝ちです。\")\n",
    "    else:\n",
    "        print(\"グー、チョキ、パーを入力してください！\")\n",
    "elif you == 2:\n",
    "    print(\"相手が出した手：パー\")\n",
    "    if me == \"チョキ\":\n",
    "        print(\"勝ちです。\")\n",
    "    elif me == \"パー\":\n",
    "        print(\"あいこです。\")\n",
    "    elif me == \"グー\":\n",
    "        print(\"負けです。\")\n",
    "    else:\n",
    "        print(\"グー、チョキ、パーを入力してください！\")"
   ]
  },
  {
   "cell_type": "markdown",
   "id": "de297f99",
   "metadata": {},
   "source": [
    "#### 問４．上記のじゃんけんプログラムを100回繰り返し実行してその勝率をprintしてください。　※あなたの手はグー・チョキ・パーいずれかで固定"
   ]
  },
  {
   "cell_type": "code",
   "execution_count": 14,
   "id": "46db533b",
   "metadata": {},
   "outputs": [
    {
     "name": "stdout",
     "output_type": "stream",
     "text": [
      "勝率:33.29% \n"
     ]
    }
   ],
   "source": [
    "#回答欄\n",
    "import random\n",
    "x = 1000000\n",
    "win = 0\n",
    "lose = 0\n",
    "draw = 0\n",
    "\n",
    "for i in range(x):\n",
    "    \n",
    "\n",
    "    me = random.randint(0,2)\n",
    "\n",
    "    you = random.randint(0,2)\n",
    "\n",
    "\n",
    "\n",
    "    if you == 0:\n",
    "\n",
    "        if me == 2:\n",
    "            win = win + 1\n",
    "        elif me == 1:\n",
    "            lose = lose + 1\n",
    "        elif me == 0:\n",
    "            draw= draw + 1\n",
    "    elif you == 1:\n",
    "\n",
    "        if me == 0:\n",
    "            win= win + 1\n",
    "        elif me == 2:\n",
    "            lose= lose + 1\n",
    "        elif me == 1:\n",
    "            draw= draw + 1\n",
    "    \n",
    "    elif you == 2:\n",
    "    \n",
    "        if me == 1:\n",
    "            win= win + 1\n",
    "        elif me == 0:\n",
    "            lose= lose + 1\n",
    "        elif me == 2:\n",
    "            draw= draw + 1\n",
    "\n",
    "tmp = win / x * 100\n",
    "\n",
    "w = round(tmp,2)\n",
    "\n",
    "print(\"勝率:{}% \".format(w))"
   ]
  },
  {
   "cell_type": "code",
   "execution_count": null,
   "id": "49d76a1c-8f1b-477e-8f73-c574c30c24a8",
   "metadata": {},
   "outputs": [],
   "source": []
  },
  {
   "cell_type": "code",
   "execution_count": null,
   "id": "65a00a8b-d7ba-4908-96ea-7b31427f2559",
   "metadata": {},
   "outputs": [],
   "source": []
  },
  {
   "cell_type": "code",
   "execution_count": null,
   "id": "151f9a1e-47e1-483c-bd68-b356803b20ba",
   "metadata": {},
   "outputs": [],
   "source": []
  }
 ],
 "metadata": {
  "kernelspec": {
   "display_name": "Python 3 (ipykernel)",
   "language": "python",
   "name": "python3"
  },
  "language_info": {
   "codemirror_mode": {
    "name": "ipython",
    "version": 3
   },
   "file_extension": ".py",
   "mimetype": "text/x-python",
   "name": "python",
   "nbconvert_exporter": "python",
   "pygments_lexer": "ipython3",
   "version": "3.12.3"
  }
 },
 "nbformat": 4,
 "nbformat_minor": 5
}
