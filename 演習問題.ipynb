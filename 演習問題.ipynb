{
 "cells": [
  {
   "cell_type": "markdown",
   "id": "5ca739de",
   "metadata": {},
   "source": [
    "#### 問１．変数xと変数yを使って、xをyで割った余りをzという名前の変数に代入してください。　※回答は1行で書くこと"
   ]
  },
  {
   "cell_type": "code",
   "execution_count": 3,
   "id": "e5455a8e",
   "metadata": {},
   "outputs": [],
   "source": [
    "#このセルを実行した上で回答してください。\n",
    "x=\"78\"\n",
    "y=\"9\""
   ]
  },
  {
   "cell_type": "code",
   "execution_count": 18,
   "id": "de9dc7d8",
   "metadata": {},
   "outputs": [
    {
     "name": "stdout",
     "output_type": "stream",
     "text": [
      "6\n"
     ]
    }
   ],
   "source": [
    "#回答\n",
    "z = int(x) % int(y)\n",
    "\n",
    "print(z)"
   ]
  },
  {
   "cell_type": "markdown",
   "id": "4454cdd2",
   "metadata": {},
   "source": [
    "#### 問２．x,y,zを使って、「78を9で割った余りは6です。」という文字列をprintしてください。　※回答は1行で書くこと"
   ]
  },
  {
   "cell_type": "code",
   "execution_count": 19,
   "id": "38884582",
   "metadata": {},
   "outputs": [
    {
     "name": "stdout",
     "output_type": "stream",
     "text": [
      "78を9で割った余りは6です。\n"
     ]
    }
   ],
   "source": [
    "#回答欄\n",
    "print(\"{}を{}で割った余りは{}です。\".format(x,y,z))"
   ]
  },
  {
   "cell_type": "markdown",
   "id": "5675e8a0",
   "metadata": {},
   "source": [
    "#### 問３．list_aから、6と10をそれぞれ抽出してください。"
   ]
  },
  {
   "cell_type": "code",
   "execution_count": 31,
   "id": "0a9b6a53",
   "metadata": {},
   "outputs": [],
   "source": [
    "#このセルを実行した上で回答してください。\n",
    "list_a=[1,2,3,4,5,6,7,8,9,10]"
   ]
  },
  {
   "cell_type": "code",
   "execution_count": 27,
   "id": "8e019f63",
   "metadata": {},
   "outputs": [
    {
     "name": "stdout",
     "output_type": "stream",
     "text": [
      "6\n",
      "10\n"
     ]
    }
   ],
   "source": [
    "#回答欄\n",
    "print(list_a[5])\n",
    "print(list_a[9])"
   ]
  },
  {
   "cell_type": "markdown",
   "id": "06b456ba",
   "metadata": {},
   "source": [
    "#### 問４．list_aの最後に、11を追加してください。"
   ]
  },
  {
   "cell_type": "code",
   "execution_count": 32,
   "id": "f5a27246",
   "metadata": {},
   "outputs": [],
   "source": [
    "#回答欄\n",
    "list_a.append(11)"
   ]
  },
  {
   "cell_type": "markdown",
   "id": "6ec0edfb",
   "metadata": {},
   "source": [
    "#### 問５．for文を使って、list_aの各要素を2倍したlist_bを作成してください。"
   ]
  },
  {
   "cell_type": "code",
   "execution_count": 36,
   "id": "447e82a7",
   "metadata": {},
   "outputs": [],
   "source": [
    "#回答欄\n",
    "list_b=[]\n",
    "for i in range(len(list_a)):\n",
    "    list_b.append(list_a[i]*2)"
   ]
  },
  {
   "cell_type": "code",
   "execution_count": 37,
   "id": "2301b27a-8473-4e4d-a62c-416ca9321fac",
   "metadata": {},
   "outputs": [
    {
     "data": {
      "text/plain": [
       "[2, 4, 6, 8, 10, 12, 14, 16, 18, 20, 22]"
      ]
     },
     "execution_count": 37,
     "metadata": {},
     "output_type": "execute_result"
    }
   ],
   "source": [
    "list_b"
   ]
  },
  {
   "cell_type": "markdown",
   "id": "8c8e8dc9",
   "metadata": {},
   "source": [
    "#### 問６．for文とif文を使って、list_bから3の倍数のみを抽出したlist_cを作成してください。"
   ]
  },
  {
   "cell_type": "code",
   "execution_count": 39,
   "id": "da788391",
   "metadata": {},
   "outputs": [],
   "source": [
    "#回答欄\n",
    "list_c=[]\n",
    "for i in range(len(list_b)):\n",
    "    t = list_b[i] % 3\n",
    "    if t == 0:\n",
    "        list_c.append(list_b[i])"
   ]
  },
  {
   "cell_type": "code",
   "execution_count": 40,
   "id": "46e88be8-f40f-452d-9026-fe8757a4e7d3",
   "metadata": {},
   "outputs": [
    {
     "data": {
      "text/plain": [
       "[6, 12, 18]"
      ]
     },
     "execution_count": 40,
     "metadata": {},
     "output_type": "execute_result"
    }
   ],
   "source": [
    "list_c"
   ]
  },
  {
   "cell_type": "markdown",
   "id": "d5add9ef",
   "metadata": {},
   "source": [
    "#### 問７．list_cとenumerateを使って、  \n",
    "　　　0番目の要素は6です。  \n",
    "　　　1番目の要素は12です。  \n",
    "　　　2番目の要素は18です。  \n",
    "#### 　　　とprintしてください。"
   ]
  },
  {
   "cell_type": "code",
   "execution_count": 44,
   "id": "fd5286d9",
   "metadata": {},
   "outputs": [
    {
     "name": "stdout",
     "output_type": "stream",
     "text": [
      "0番目の要素は6です。\n",
      "1番目の要素は12です。\n",
      "2番目の要素は18です。\n"
     ]
    }
   ],
   "source": [
    "#回答欄\n",
    "for i,j in enumerate (list_c):\n",
    "    print(\"{}番目の要素は{}です。\".format(i,j))"
   ]
  },
  {
   "cell_type": "markdown",
   "id": "94bff978",
   "metadata": {},
   "source": [
    "#### 問８．変数filenameから、「ver」の後の数字部分を抽出して、versionという変数に代入してください。"
   ]
  },
  {
   "cell_type": "code",
   "execution_count": 45,
   "id": "c94f4c2c",
   "metadata": {},
   "outputs": [],
   "source": [
    "#このセルを実行した上で回答してください。\n",
    "filename=\"資料_ver1.0.2\""
   ]
  },
  {
   "cell_type": "code",
   "execution_count": 54,
   "id": "a267a8b1",
   "metadata": {},
   "outputs": [],
   "source": [
    "#回答欄\n",
    "version=filename[6:]"
   ]
  },
  {
   "cell_type": "code",
   "execution_count": 55,
   "id": "6fc07bfc-afff-489a-89c9-52dc61daf0de",
   "metadata": {},
   "outputs": [
    {
     "data": {
      "text/plain": [
       "'1.0.2'"
      ]
     },
     "execution_count": 55,
     "metadata": {},
     "output_type": "execute_result"
    }
   ],
   "source": [
    "version"
   ]
  },
  {
   "cell_type": "markdown",
   "id": "a2f02c80",
   "metadata": {},
   "source": [
    "#### 問９．このjupyterファイル（演習問題.ipynb）の絶対パスを取得し、変数pathに代入してください。"
   ]
  },
  {
   "cell_type": "code",
   "execution_count": 62,
   "id": "3cdbc92e",
   "metadata": {},
   "outputs": [
    {
     "data": {
      "text/plain": [
       "'C:\\\\Users\\\\p8915\\\\Desktop\\\\python\\\\pro\\\\演習問題.ipynb'"
      ]
     },
     "execution_count": 62,
     "metadata": {},
     "output_type": "execute_result"
    }
   ],
   "source": [
    "#回答欄\n",
    "import os\n",
    "path = os.path.abspath(\"演習問題.ipynb\")\n",
    "path"
   ]
  },
  {
   "cell_type": "code",
   "execution_count": 63,
   "id": "1eea98ac-f666-45b7-8730-ed847ad0c7a3",
   "metadata": {},
   "outputs": [
    {
     "data": {
      "text/plain": [
       "['.git',\n",
       " '.ipynb_checkpoints',\n",
       " 'for文.ipynb',\n",
       " 'if文.ipynb',\n",
       " 'jupyterの使い方.ipynb',\n",
       " 'test',\n",
       " 'test.txt',\n",
       " 'ライブラリ.ipynb',\n",
       " 'リスト.ipynb',\n",
       " '変数.ipynb',\n",
       " '数値と四則演算.ipynb',\n",
       " '文字列.ipynb',\n",
       " '演習問題.ipynb']"
      ]
     },
     "execution_count": 63,
     "metadata": {},
     "output_type": "execute_result"
    }
   ],
   "source": [
    "os.listdir()"
   ]
  },
  {
   "cell_type": "markdown",
   "id": "e0163cce",
   "metadata": {},
   "source": [
    "#### 問１０．timeというライブラリとfor文を使って、実行後1秒ごとに「○秒経過」、5秒経過後に「処理終了」とprintするプログラムを作ってください。"
   ]
  },
  {
   "cell_type": "code",
   "execution_count": 70,
   "id": "4b539019",
   "metadata": {},
   "outputs": [
    {
     "name": "stdout",
     "output_type": "stream",
     "text": [
      "1秒経過\n",
      "2秒経過\n",
      "3秒経過\n",
      "4秒経過\n",
      "5秒経過\n",
      "処理終了\n"
     ]
    }
   ],
   "source": [
    "#回答欄\n",
    "import time\n",
    "for i in range(1,6):\n",
    "    time.sleep(1)\n",
    "    print(\"{}秒経過\".format(i))\n",
    "print(\"処理終了\")"
   ]
  },
  {
   "cell_type": "code",
   "execution_count": null,
   "id": "484ab8c7-2d4e-4009-abd2-f9ceac398c92",
   "metadata": {},
   "outputs": [],
   "source": []
  }
 ],
 "metadata": {
  "kernelspec": {
   "display_name": "Python 3 (ipykernel)",
   "language": "python",
   "name": "python3"
  },
  "language_info": {
   "codemirror_mode": {
    "name": "ipython",
    "version": 3
   },
   "file_extension": ".py",
   "mimetype": "text/x-python",
   "name": "python",
   "nbconvert_exporter": "python",
   "pygments_lexer": "ipython3",
   "version": "3.12.3"
  },
  "varInspector": {
   "cols": {
    "lenName": 16,
    "lenType": 16,
    "lenVar": 40
   },
   "kernels_config": {
    "python": {
     "delete_cmd_postfix": "",
     "delete_cmd_prefix": "del ",
     "library": "var_list.py",
     "varRefreshCmd": "print(var_dic_list())"
    },
    "r": {
     "delete_cmd_postfix": ") ",
     "delete_cmd_prefix": "rm(",
     "library": "var_list.r",
     "varRefreshCmd": "cat(var_dic_list()) "
    }
   },
   "types_to_exclude": [
    "module",
    "function",
    "builtin_function_or_method",
    "instance",
    "_Feature"
   ],
   "window_display": false
  }
 },
 "nbformat": 4,
 "nbformat_minor": 5
}
