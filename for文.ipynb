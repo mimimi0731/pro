{
 "cells": [
  {
   "cell_type": "code",
   "execution_count": 24,
   "id": "df7aee5c-3992-4d44-b674-12c70d0642c0",
   "metadata": {},
   "outputs": [],
   "source": [
    "List = [1,2,3,4,5,6,7,8]"
   ]
  },
  {
   "cell_type": "code",
   "execution_count": 25,
   "id": "03797cbf-addc-44ed-a4fc-8249f7043ede",
   "metadata": {},
   "outputs": [
    {
     "name": "stdout",
     "output_type": "stream",
     "text": [
      "1\n",
      "2\n",
      "3\n",
      "4\n",
      "5\n",
      "6\n",
      "7\n",
      "8\n"
     ]
    }
   ],
   "source": [
    "for i in List:\n",
    "    print(i)"
   ]
  },
  {
   "cell_type": "code",
   "execution_count": 26,
   "id": "e9fd76a7-2a4c-44a0-9121-bb656e02f09e",
   "metadata": {},
   "outputs": [
    {
     "name": "stdout",
     "output_type": "stream",
     "text": [
      "2\n",
      "4\n",
      "6\n",
      "8\n",
      "10\n",
      "12\n",
      "14\n",
      "16\n"
     ]
    }
   ],
   "source": [
    "for i in List:\n",
    "    print(i+i)"
   ]
  },
  {
   "cell_type": "code",
   "execution_count": 27,
   "id": "90f5b0f6-024d-4d07-a4fc-53bb3ba453aa",
   "metadata": {},
   "outputs": [
    {
     "name": "stdout",
     "output_type": "stream",
     "text": [
      "こんにちは\n",
      "こんにちは\n",
      "こんにちは\n",
      "こんにちは\n",
      "こんにちは\n",
      "こんにちは\n",
      "こんにちは\n",
      "こんにちは\n"
     ]
    }
   ],
   "source": [
    "for i in List:\n",
    "    print(\"こんにちは\")"
   ]
  },
  {
   "cell_type": "code",
   "execution_count": 28,
   "id": "ebe38c25-2076-44d0-aad2-34e936c217cd",
   "metadata": {},
   "outputs": [
    {
     "name": "stdout",
     "output_type": "stream",
     "text": [
      "0\n",
      "1\n",
      "2\n",
      "3\n",
      "4\n"
     ]
    }
   ],
   "source": [
    "for i in range(0,5):\n",
    "    print(i)"
   ]
  },
  {
   "cell_type": "code",
   "execution_count": 29,
   "id": "2f614020-96ca-4153-9ac2-3b5597f33f58",
   "metadata": {},
   "outputs": [
    {
     "name": "stdout",
     "output_type": "stream",
     "text": [
      "こんにちは\n",
      "こんにちは\n",
      "こんにちは\n",
      "こんにちは\n",
      "こんにちは\n",
      "こんにちは\n",
      "こんにちは\n",
      "こんにちは\n",
      "こんにちは\n",
      "こんにちは\n"
     ]
    }
   ],
   "source": [
    "for i in range(0,10):\n",
    "    print(\"こんにちは\")"
   ]
  },
  {
   "cell_type": "code",
   "execution_count": 30,
   "id": "e4a89949-36fa-429b-b1f7-ba6a22222788",
   "metadata": {},
   "outputs": [
    {
     "name": "stdout",
     "output_type": "stream",
     "text": [
      "1\n",
      "2\n",
      "3\n",
      "4\n",
      "5\n"
     ]
    }
   ],
   "source": [
    "for i in range(0,5):\n",
    "    print(List[i])"
   ]
  },
  {
   "cell_type": "code",
   "execution_count": 31,
   "id": "738a3c87-05e3-4936-8997-0f8d0b129b3e",
   "metadata": {},
   "outputs": [
    {
     "name": "stdout",
     "output_type": "stream",
     "text": [
      "0\n",
      "1\n",
      "2\n",
      "3\n",
      "4\n"
     ]
    }
   ],
   "source": [
    "for i in range(5):\n",
    "    print(i)"
   ]
  },
  {
   "cell_type": "code",
   "execution_count": 32,
   "id": "03e32d7d-5c69-4eee-ae28-5bbdd36933fb",
   "metadata": {},
   "outputs": [
    {
     "name": "stdout",
     "output_type": "stream",
     "text": [
      "1\n",
      "2\n",
      "3\n",
      "4\n",
      "5\n"
     ]
    }
   ],
   "source": [
    "for i in range(5):\n",
    "    print(List[i])"
   ]
  },
  {
   "cell_type": "code",
   "execution_count": 33,
   "id": "08392225-743e-4a6e-9773-15403bca8ccf",
   "metadata": {},
   "outputs": [
    {
     "data": {
      "text/plain": [
       "8"
      ]
     },
     "execution_count": 33,
     "metadata": {},
     "output_type": "execute_result"
    }
   ],
   "source": [
    "len(List)"
   ]
  },
  {
   "cell_type": "code",
   "execution_count": 34,
   "id": "2a4dacf0-7c48-4d5d-85b3-31a736969dfe",
   "metadata": {},
   "outputs": [
    {
     "name": "stdout",
     "output_type": "stream",
     "text": [
      "1\n",
      "2\n",
      "3\n",
      "4\n",
      "5\n",
      "6\n",
      "7\n",
      "8\n"
     ]
    }
   ],
   "source": [
    "for i in range(len(List)):  #lenで長さを自動に\n",
    "    print(List[i])"
   ]
  },
  {
   "cell_type": "code",
   "execution_count": 35,
   "id": "b4863e6b-2b49-442d-91b3-07c42a03117a",
   "metadata": {},
   "outputs": [
    {
     "data": {
      "text/plain": [
       "7"
      ]
     },
     "execution_count": 35,
     "metadata": {},
     "output_type": "execute_result"
    }
   ],
   "source": [
    "i #forで入った値が残ってしまっている"
   ]
  },
  {
   "cell_type": "code",
   "execution_count": 38,
   "id": "fcf39aca-0a70-46af-8d21-a46df5e9537d",
   "metadata": {},
   "outputs": [
    {
     "name": "stdout",
     "output_type": "stream",
     "text": [
      "0 1\n",
      "1 2\n",
      "2 3\n",
      "3 4\n",
      "4 5\n",
      "5 6\n",
      "6 7\n",
      "7 8\n"
     ]
    }
   ],
   "source": [
    "for i,j in enumerate (List):\n",
    "    print(i,j)"
   ]
  },
  {
   "cell_type": "code",
   "execution_count": null,
   "id": "749146c2-10f0-4791-8350-31c24490252f",
   "metadata": {},
   "outputs": [],
   "source": []
  }
 ],
 "metadata": {
  "kernelspec": {
   "display_name": "Python 3 (ipykernel)",
   "language": "python",
   "name": "python3"
  },
  "language_info": {
   "codemirror_mode": {
    "name": "ipython",
    "version": 3
   },
   "file_extension": ".py",
   "mimetype": "text/x-python",
   "name": "python",
   "nbconvert_exporter": "python",
   "pygments_lexer": "ipython3",
   "version": "3.12.3"
  }
 },
 "nbformat": 4,
 "nbformat_minor": 5
}
