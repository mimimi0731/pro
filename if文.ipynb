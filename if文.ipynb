{
 "cells": [
  {
   "cell_type": "code",
   "execution_count": 19,
   "id": "06e4ca10-83a8-46be-ae9a-4c9a3943ee3f",
   "metadata": {},
   "outputs": [],
   "source": [
    "a = 30\n",
    "b = 20"
   ]
  },
  {
   "cell_type": "code",
   "execution_count": 23,
   "id": "fe1e2eac-6041-488d-b4c6-0811c03b073e",
   "metadata": {},
   "outputs": [
    {
     "name": "stdout",
     "output_type": "stream",
     "text": [
      "aはbより大きいです。\n"
     ]
    }
   ],
   "source": [
    "if a<b:\n",
    "    print(\"aはbより小さいです。\")\n",
    "elif a==b:\n",
    "    print(\"aとbは等しいです。\")\n",
    "else:\n",
    "    print(\"aはbより大きいです。\")"
   ]
  },
  {
   "cell_type": "code",
   "execution_count": 25,
   "id": "07933c68-27d9-4cb9-82a1-83833adbd059",
   "metadata": {},
   "outputs": [
    {
     "name": "stdout",
     "output_type": "stream",
     "text": [
      "aはbより小さいです。\n"
     ]
    },
    {
     "data": {
      "text/plain": [
       "30"
      ]
     },
     "execution_count": 25,
     "metadata": {},
     "output_type": "execute_result"
    }
   ],
   "source": [
    "a = 10\n",
    "b = 20\n",
    "if a<b:\n",
    "    print(\"aはbより小さいです。\")\n",
    "a + b"
   ]
  },
  {
   "cell_type": "code",
   "execution_count": null,
   "id": "ac401e53-e013-4b82-b4e3-0a1588e5586b",
   "metadata": {},
   "outputs": [],
   "source": []
  }
 ],
 "metadata": {
  "kernelspec": {
   "display_name": "Python 3 (ipykernel)",
   "language": "python",
   "name": "python3"
  },
  "language_info": {
   "codemirror_mode": {
    "name": "ipython",
    "version": 3
   },
   "file_extension": ".py",
   "mimetype": "text/x-python",
   "name": "python",
   "nbconvert_exporter": "python",
   "pygments_lexer": "ipython3",
   "version": "3.12.3"
  }
 },
 "nbformat": 4,
 "nbformat_minor": 5
}
